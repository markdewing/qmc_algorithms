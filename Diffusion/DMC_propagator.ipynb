{
 "cells": [
  {
   "cell_type": "code",
   "execution_count": 25,
   "metadata": {},
   "outputs": [],
   "source": [
    "from sympy import *\n",
    "from sympy.utilities.lambdify import lambdastr\n",
    "init_printing()\n",
    "import numpy as np\n",
    "import sys\n",
    "import math"
   ]
  },
  {
   "cell_type": "markdown",
   "metadata": {},
   "source": [
    "# Diffusion Monte Carlo propagators\n",
    "Most of the equations taken from Chapter 24 (\"Projector quantum Monte Carlo\") in \"Interacting Electrons\" (2016) by R.M. Martin, L. Reining, and D.M. Ceperley."
   ]
  },
  {
   "cell_type": "markdown",
   "metadata": {},
   "source": [
    "# Trotter breakup"
   ]
  },
  {
   "cell_type": "code",
   "execution_count": 2,
   "metadata": {},
   "outputs": [],
   "source": [
    "T_op = Symbol('That')   # Kinetic energy operator\n",
    "V_op = Symbol('Vhat')   # Potential energy operator\n",
    "tau = Symbol('tau')     # Projection time\n",
    "n = Symbol('n',isinteger=True)  # Number of timestep divisions\n",
    "dt = Symbol(r'\\Delta\\tau')  # Time for individual timestep"
   ]
  },
  {
   "cell_type": "code",
   "execution_count": 3,
   "metadata": {},
   "outputs": [
    {
     "data": {
      "image/png": "[encoded data removed]",
      "text/latex": [
       "$$e^{- \\tau \\left(\\hat{T} + \\hat{V}\\right)} = \\lim_{n \\to \\infty}\\left(e^{- \\hat{T} \\Delta\\tau} e^{- \\hat{V} \\Delta\\tau}\\right)$$"
      ],
      "text/plain": [
       " -τ⋅(T̂ + V̂)       ⎛ -T̂⋅\\Delta\\tau  -V̂⋅\\Delta\\tau⎞\n",
       "ℯ             = lim ⎝ℯ              ⋅ℯ              ⎠\n",
       "                n─→∞                                 "
      ]
     },
     "execution_count": 3,
     "metadata": {},
     "output_type": "execute_result"
    }
   ],
   "source": [
    "# Eq. 24.7\n",
    "Eq(exp(-tau *(T_op + V_op)),\n",
    "  Limit(exp(-dt*T_op) * exp(-dt*V_op),n,oo))"
   ]
  },
  {
   "cell_type": "markdown",
   "metadata": {},
   "source": [
    "## In coordinate space, no importance sampling"
   ]
  },
  {
   "cell_type": "code",
   "execution_count": 4,
   "metadata": {},
   "outputs": [],
   "source": [
    "R = Symbol('R')\n",
    "Rp = Symbol(\"R'\")\n",
    "Rpp = Symbol(\"R''\")\n",
    "ET = Symbol(\"E_T\") # Trial energy\n",
    "N = Symbol('N',isinteger=True)  # number of particles\n",
    "V = Symbol('V') # potential energy\n",
    "bracket = lambda a,b,c : Symbol(r'\\left\\langle{%s}\\left|{%s}\\right|{%s}\\right\\rangle'%(latex(a),latex(b),latex(c)))"
   ]
  },
  {
   "cell_type": "code",
   "execution_count": 5,
   "metadata": {},
   "outputs": [
    {
     "data": {
      "image/png": "[encoded data removed]",
      "text/latex": [
       "$$\\left\\langle{R}\\left|{e^{- \\hat{T} \\Delta\\tau}}\\right|{R''}\\right\\rangle = \\left(2 \\pi \\Delta\\tau\\right)^{- \\frac{3 N}{2}} e^{- \\frac{\\left(R - R''\\right)^{2}}{2 \\Delta\\tau}}$$"
      ],
      "text/plain": [
       "                                                                              \n",
       "                                                                              \n",
       "                                                                              \n",
       "                                                                              \n",
       "\\left\\langle{R}\\left|{e__{- \\hat{T} \\Delta\\tau}}\\right|{R''}\\right\\rangle = (2\n",
       "\n",
       "                               2 \n",
       "              -3⋅N   -(R - R'')  \n",
       "              ─────  ────────────\n",
       "                2    2⋅\\Delta\\tau\n",
       "⋅π⋅\\Delta\\tau)     ⋅ℯ            "
      ]
     },
     "execution_count": 5,
     "metadata": {},
     "output_type": "execute_result"
    }
   ],
   "source": [
    "# Kinetic energy - Eq. 24.8\n",
    "Eq(bracket(R, exp(-dt*T_op), Rpp),\n",
    "  (2 *pi*dt)**(-3*N/2) * exp(-(R-Rpp)**2/(2*dt)))"
   ]
  },
  {
   "cell_type": "code",
   "execution_count": 6,
   "metadata": {},
   "outputs": [
    {
     "data": {
      "image/png": "[encoded data removed]",
      "text/latex": [
       "$$\\left\\langle{R''}\\left|{e^{- \\Delta\\tau \\left(- E_{T} + \\hat{V}\\right)}}\\right|{R'}\\right\\rangle = e^{- \\Delta\\tau V{\\left (R' \\right )}} \\delta\\left(- R' + R''\\right)$$"
      ],
      "text/plain": [
       "                                                                              \n",
       "\\left\\langle{R''}\\left|{e_{T} + \\hat{V}\\right)}}\\right|{R'}\\right\\rangle__{- \\\n",
       "\n",
       "                       -\\Delta\\tau⋅V(R')             \n",
       "Delta\\tau \\left(- E = ℯ                 ⋅δ(-R' + R'')"
      ]
     },
     "execution_count": 6,
     "metadata": {},
     "output_type": "execute_result"
    }
   ],
   "source": [
    "# Potential energy - Eq. 24.9\n",
    "Eq(bracket(Rpp, exp(-dt*(V_op-ET)),Rp),\n",
    "  exp(-dt*V(Rp))*DiracDelta(Rpp-Rp))"
   ]
  },
  {
   "cell_type": "markdown",
   "metadata": {},
   "source": [
    "## In coordinate space, with importance sampling"
   ]
  },
  {
   "cell_type": "code",
   "execution_count": 7,
   "metadata": {},
   "outputs": [],
   "source": [
    "F = Symbol('F_i')\n",
    "psiG = Symbol('Psi_G',commutative=False)\n",
    "EL = Symbol(\"E_L\")  # Local energy\n",
    "H_op = Symbol(\"Hhat\",commutative=False)\n",
    "gradient = lambda x: Symbol(r'\\nabla{%s}'%latex(x))\n",
    "gradient_with_index = lambda x,i : Symbol(r'\\nabla_{%s}{%s}'%(latex(i),latex(x)))"
   ]
  },
  {
   "cell_type": "code",
   "execution_count": 8,
   "metadata": {},
   "outputs": [
    {
     "data": {
      "image/png": "[encoded data removed]",
      "text/latex": [
       "$$\\operatorname{F_{i}}{\\left (R \\right )} = 2 \\nabla_{i}{\\log{\\left (\\Psi_{G} \\right )}}$$"
      ],
      "text/plain": [
       "Fᵢ(R) = 2⋅\\nabla_{i}{\\log{\\left (\\Psi_{G} \\right )}}"
      ]
     },
     "execution_count": 8,
     "metadata": {},
     "output_type": "execute_result"
    }
   ],
   "source": [
    "# Quantum force\n",
    "Eq(F(R), 2*gradient_with_index(log(psiG),Symbol('i')))"
   ]
  },
  {
   "cell_type": "code",
   "execution_count": 9,
   "metadata": {},
   "outputs": [
    {
     "data": {
      "image/png": "[encoded data removed]",
      "text/latex": [
       "$$\\operatorname{E_{L}}{\\left (R \\right )} = \\Psi_{G}^{-1} \\hat{H} \\Psi_{G}$$"
      ],
      "text/plain": [
       "            -1       \n",
       "E_L(R) = Ψ_G  ⋅Ĥ⋅Ψ_G"
      ]
     },
     "execution_count": 9,
     "metadata": {},
     "output_type": "execute_result"
    }
   ],
   "source": [
    "# Local energy\n",
    "Eq(EL(R), psiG**-1 * H_op * psiG)"
   ]
  },
  {
   "cell_type": "code",
   "execution_count": 10,
   "metadata": {},
   "outputs": [
    {
     "data": {
      "image/png": "[encoded data removed]",
      "text/latex": [
       "$$e^{- \\frac{1}{2 \\Delta\\tau} \\left(- R + R' - \\frac{\\Delta\\tau}{2} \\operatorname{F_{i}}{\\left (R \\right )}\\right)^{2}}$$"
      ],
      "text/plain": [
       "                              2 \n",
       "  ⎛          \\Delta\\tau⋅Fᵢ(R)⎞  \n",
       " -⎜-R + R' - ────────────────⎟  \n",
       "  ⎝                 2        ⎠  \n",
       " ───────────────────────────────\n",
       "           2⋅\\Delta\\tau         \n",
       "ℯ                               "
      ]
     },
     "execution_count": 10,
     "metadata": {},
     "output_type": "execute_result"
    }
   ],
   "source": [
    "drift_diffusion = exp(-(Rp-R-S.Half*dt*F(R))**2/(2*dt))\n",
    "drift_diffusion"
   ]
  },
  {
   "cell_type": "code",
   "execution_count": 11,
   "metadata": {},
   "outputs": [
    {
     "data": {
      "image/png": "[encoded data removed]",
      "text/latex": [
       "$$e^{- \\Delta\\tau \\left(- E_{T} + \\operatorname{E_{L}}{\\left (R \\right )}\\right)}$$"
      ],
      "text/plain": [
       " -\\Delta\\tau⋅(-E_T + E_L(R))\n",
       "ℯ                           "
      ]
     },
     "execution_count": 11,
     "metadata": {},
     "output_type": "execute_result"
    }
   ],
   "source": [
    "branching = exp(-dt*(EL(R)-ET))\n",
    "branching"
   ]
  },
  {
   "cell_type": "code",
   "execution_count": 12,
   "metadata": {},
   "outputs": [
    {
     "data": {
      "image/png": "[encoded data removed]",
      "text/latex": [
       "$$\\left(2 \\pi \\Delta\\tau\\right)^{- \\frac{3 N}{2}}$$"
      ],
      "text/plain": [
       "                -3⋅N \n",
       "                ─────\n",
       "                  2  \n",
       "(2⋅π⋅\\Delta\\tau)     "
      ]
     },
     "execution_count": 12,
     "metadata": {},
     "output_type": "execute_result"
    }
   ],
   "source": [
    "prefactor = (2*pi*dt)**(-3*N/2)\n",
    "prefactor"
   ]
  },
  {
   "cell_type": "code",
   "execution_count": 13,
   "metadata": {},
   "outputs": [
    {
     "data": {
      "image/png": "[encoded data removed]",
      "text/latex": [
       "$$\\left(2 \\pi \\Delta\\tau\\right)^{- \\frac{3 N}{2}} e^{- \\frac{1}{2 \\Delta\\tau} \\left(- R + R' - \\frac{\\Delta\\tau}{2} \\operatorname{F_{i}}{\\left (R \\right )}\\right)^{2}} e^{- \\Delta\\tau \\left(- E_{T} + \\operatorname{E_{L}}{\\left (R \\right )}\\right)}$$"
      ],
      "text/plain": [
       "                                                    2                         \n",
       "                        ⎛          \\Delta\\tau⋅Fᵢ(R)⎞                          \n",
       "                       -⎜-R + R' - ────────────────⎟                          \n",
       "                -3⋅N    ⎝                 2        ⎠                          \n",
       "                ─────  ───────────────────────────────                        \n",
       "                  2              2⋅\\Delta\\tau           -\\Delta\\tau⋅(-E_T + E_\n",
       "(2⋅π⋅\\Delta\\tau)     ⋅ℯ                               ⋅ℯ                      \n",
       "\n",
       "     \n",
       "     \n",
       "     \n",
       "     \n",
       "     \n",
       "L(R))\n",
       "     "
      ]
     },
     "execution_count": 13,
     "metadata": {},
     "output_type": "execute_result"
    }
   ],
   "source": [
    "# Eq. 24.18\n",
    "prefactor*drift_diffusion*branching"
   ]
  },
  {
   "cell_type": "code",
   "execution_count": null,
   "metadata": {},
   "outputs": [],
   "source": []
  },
  {
   "cell_type": "markdown",
   "metadata": {},
   "source": [
    "## Sampling the drift-diffusion term"
   ]
  },
  {
   "cell_type": "code",
   "execution_count": 14,
   "metadata": {},
   "outputs": [],
   "source": [
    "chi = Symbol('chi')   # gaussian random sample with zero mean and variance delta tau\n",
    "r = Symbol('r')\n",
    "rp = Symbol(\"r'\")"
   ]
  },
  {
   "cell_type": "code",
   "execution_count": 15,
   "metadata": {},
   "outputs": [
    {
     "data": {
      "image/png": "[encoded data removed]",
      "text/latex": [
       "$$r' = F_{i} \\Delta\\tau + \\chi + r$$"
      ],
      "text/plain": [
       "r' = Fᵢ⋅\\Delta\\tau + χ + r"
      ]
     },
     "execution_count": 15,
     "metadata": {},
     "output_type": "execute_result"
    }
   ],
   "source": [
    "# Sample new positions with this formula  (Eq 23.13)\n",
    "# Question - how to detemine sampling formula from evolution equation/distribution above?\n",
    "sample_drift_diffusion = Eq(rp, r + dt * F + chi)\n",
    "sample_drift_diffusion"
   ]
  },
  {
   "cell_type": "markdown",
   "metadata": {},
   "source": [
    "## Scaling the drift\n",
    "\n",
    "In QMCPACK, the drift term is scaled.  (From C. J. Umrigar, M. P. Nightingale, K. J. Runge \"A diffusion Monte Carlo algorithm with very small time-step errors\"  JCP 99, 2865 (1993) doi: 10.1063/1.465195 )"
   ]
  },
  {
   "cell_type": "code",
   "execution_count": 16,
   "metadata": {},
   "outputs": [],
   "source": [
    "Fmag = Symbol('Fmag^2')\n",
    "epsilon = Symbol('epsilon')"
   ]
  },
  {
   "cell_type": "code",
   "execution_count": 17,
   "metadata": {},
   "outputs": [
    {
     "data": {
      "image/png": "[encoded data removed]",
      "text/latex": [
       "$$\\begin{cases} \\tau & \\text{for}\\: \\left|{F}\\right|^{2} < \\epsilon \\\\\\frac{1}{\\left|{F}\\right|^{2}} \\left(\\sqrt{2 \\left|{F}\\right|^{2} \\tau + 1} - 1\\right) & \\text{otherwise} \\end{cases}$$"
      ],
      "text/plain": [
       "⎧         τ            for |F|² < ε\n",
       "⎪                                  \n",
       "⎪  ______________                  \n",
       "⎨╲╱ 2⋅|F|²⋅τ + 1  - 1              \n",
       "⎪────────────────────   otherwise  \n",
       "⎪        |F|²                      \n",
       "⎩                                  "
      ]
     },
     "execution_count": 17,
     "metadata": {},
     "output_type": "execute_result"
    }
   ],
   "source": [
    "drift_scale = Piecewise( (tau,Fmag < epsilon ),\n",
    "         ((sqrt(1 + 2*Fmag*tau)-1)/Fmag, True))\n",
    "drift_scale"
   ]
  },
  {
   "cell_type": "code",
   "execution_count": 18,
   "metadata": {},
   "outputs": [
    {
     "data": {
      "image/png": "[encoded data removed]",
      "text/latex": [
       "$$F_{i} \\left(\\begin{cases} \\tau & \\text{for}\\: \\left|{F}\\right|^{2} < \\epsilon \\\\\\frac{1}{\\left|{F}\\right|^{2}} \\left(\\sqrt{2 \\left|{F}\\right|^{2} \\tau + 1} - 1\\right) & \\text{otherwise} \\end{cases}\\right)$$"
      ],
      "text/plain": [
       "   ⎛⎧         τ            for |F|² < ε⎞\n",
       "   ⎜⎪                                  ⎟\n",
       "   ⎜⎪  ______________                  ⎟\n",
       "Fᵢ⋅⎜⎨╲╱ 2⋅|F|²⋅τ + 1  - 1              ⎟\n",
       "   ⎜⎪────────────────────   otherwise  ⎟\n",
       "   ⎜⎪        |F|²                      ⎟\n",
       "   ⎝⎩                                  ⎠"
      ]
     },
     "execution_count": 18,
     "metadata": {},
     "output_type": "execute_result"
    }
   ],
   "source": [
    "scaled_drift = F*drift_scale\n",
    "scaled_drift"
   ]
  },
  {
   "cell_type": "markdown",
   "metadata": {},
   "source": [
    "# Values for Testing"
   ]
  },
  {
   "cell_type": "code",
   "execution_count": 19,
   "metadata": {},
   "outputs": [],
   "source": [
    "class SymPrinter(printing.lambdarepr.NumPyPrinter):\n",
    "    def _print_Symbol(self, expr):\n",
    "        if expr.name == r'\\Delta\\tau':\n",
    "            return 'dt'\n",
    "        return expr.name"
   ]
  },
  {
   "cell_type": "code",
   "execution_count": 20,
   "metadata": {},
   "outputs": [
    {
     "data": {
      "text/plain": [
       "array([[ -1.17741002e+00,   3.84734139e-16,  -1.17741002e+00],\n",
       "       [  3.84734139e-16,  -1.17741002e+00,   3.84734139e-16]])"
      ]
     },
     "execution_count": 20,
     "metadata": {},
     "output_type": "execute_result"
    }
   ],
   "source": [
    "# RNG corresponding to src/ParticleBase/RandomSeqGenerator.h\n",
    "def gaussian_rng_list(n):\n",
    "    input_rng = [0.5]*(n+1)\n",
    "    slightly_less_than_one = 1.0 - sys.float_info.epsilon\n",
    "    vals = []\n",
    "    for i in range(0,n,2):\n",
    "        temp1 = math.sqrt(-2.0 * math.log(1.0- slightly_less_than_one*input_rng[i]))\n",
    "        temp2 = 2*math.pi*input_rng[i+1]\n",
    "        vals.append(temp1*math.cos(temp2))\n",
    "        vals.append(temp2*math.sin(temp2))\n",
    "    if n%2 == 1:\n",
    "        temp1 = math.sqrt(-2.0 * math.log(1.0- slightly_less_than_one*input_rng[n-1]))\n",
    "        temp2 = 2*math.pi*input_rng[n]\n",
    "        vals.append(temp1*math.cos(temp2))\n",
    "    return vals\n",
    "\n",
    "chi_vals = np.array(gaussian_rng_list(6)).reshape((2,3))\n",
    "chi_vals\n",
    "        "
   ]
  },
  {
   "cell_type": "code",
   "execution_count": 21,
   "metadata": {},
   "outputs": [],
   "source": [
    "r_vals = np.array( [ [1.0, 0.0, 0.0],\n",
    "                     [0.0, 0.0, 1.0]])\n",
    "tau_val = 0.1\n",
    "scaled_chi_vals = chi_vals * math.sqrt(tau_val)"
   ]
  },
  {
   "cell_type": "code",
   "execution_count": 28,
   "metadata": {},
   "outputs": [
    {
     "name": "stdout",
     "output_type": "stream",
     "text": [
      "lambda tau,Fmag^2,F_i: (F_i*((tau) if (Fmag^2 < 2.22044604925031e-16) else ((((sqrt(2*Fmag^2*tau + 1) - 1)/Fmag^2) if (True) else None))))\n",
      "lambda r,F_i,chi,\\Delta\\tau: (chi + r + F_i*dt)\n"
     ]
    }
   ],
   "source": [
    "# Python code to copy/paste into scripts to generate unit tests data\n",
    "print lambdastr((tau,Fmag,F),scaled_drift.subs(epsilon, sys.float_info.epsilon))\n",
    "print lambdastr((r,F,chi,dt), sample_drift_diffusion.rhs, printer=SymPrinter)"
   ]
  },
  {
   "cell_type": "code",
   "execution_count": 29,
   "metadata": {},
   "outputs": [
    {
     "name": "stdout",
     "output_type": "stream",
     "text": [
      "['0.627670258894097', '1.2166361720554e-16', '-0.372329741105903']\n",
      "['1.2166361720554e-16', '-0.372329741105903', '1']\n"
     ]
    }
   ],
   "source": [
    "drift_diffuse_func = lambdify((r, F, chi, dt),sample_drift_diffusion.rhs, printer=SymPrinter)\n",
    "scaled_drift_func = lambdify((tau, Fmag, F), scaled_drift.subs(epsilon, sys.float_info.epsilon) )\n",
    "# For a constant wavefunction, gradient is zero\n",
    "for r_val, chi_val in zip(r_vals, scaled_chi_vals):\n",
    "    rp_val = np.zeros(3)\n",
    "    rp_val = drift_diffuse_func(r_val, np.zeros(3), chi_val, tau_val)\n",
    "    print ['%.15g'%v for v in rp_val]"
   ]
  },
  {
   "cell_type": "code",
   "execution_count": 286,
   "metadata": {},
   "outputs": [
    {
     "name": "stdout",
     "output_type": "stream",
     "text": [
      "['0.695481606677082', '0.135622695565971', '-0.168895697756948']\n",
      "['0.0678113477829853', '-0.236707045539933', '1.20343404334896']\n"
     ]
    }
   ],
   "source": [
    "#  For a linear wavefunction, gradient is constant\n",
    "grad_coeff = np.array([ 1.0, 2.0, 3.0])\n",
    "for r_val, chi_val in zip(r_vals, scaled_chi_vals):\n",
    "    rp_val = np.zeros(3)\n",
    "    # Scaled drift is already multiplied by dt, accomodate by setting dt param to 1.0\n",
    "    rp_val = drift_diffuse_func(r_val, scaled_drift_func(tau_val, np.dot(grad_coeff, grad_coeff),grad_coeff), chi_val, 1.0)\n",
    "    print ['%.15g'%v for v in rp_val]"
   ]
  },
  {
   "cell_type": "code",
   "execution_count": 287,
   "metadata": {},
   "outputs": [
    {
     "data": {
      "image/png": "[encoded data removed]",
      "text/latex": [
       "$$0.0678113477829852$$"
      ],
      "text/plain": [
       "0.0678113477829852"
      ]
     },
     "execution_count": 287,
     "metadata": {},
     "output_type": "execute_result"
    }
   ],
   "source": [
    "# Compute scaled drift\n",
    "drift_scale.subs({epsilon:sys.float_info.epsilon, tau:tau_val, Fmag:np.dot(grad_coeff, grad_coeff)})"
   ]
  },
  {
   "cell_type": "code",
   "execution_count": null,
   "metadata": {
    "collapsed": true
   },
   "outputs": [],
   "source": []
  }
 ],
 "metadata": {
  "kernelspec": {
   "display_name": "Python 2",
   "language": "python",
   "name": "python2"
  },
  "language_info": {
   "codemirror_mode": {
    "name": "ipython",
    "version": 2
   },
   "file_extension": ".py",
   "mimetype": "text/x-python",
   "name": "python",
   "nbconvert_exporter": "python",
   "pygments_lexer": "ipython2",
   "version": "2.7.12"
  }
 },
 "nbformat": 4,
 "nbformat_minor": 1
}
